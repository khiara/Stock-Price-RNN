{
 "cells": [
  {
   "cell_type": "markdown",
   "metadata": {},
   "source": [
    "In this version, I again ran my original model then tried to add his grid search function. But this time I copied more of his set-up functions to see if the problem was that I didn't have all the code I needed for it to work."
   ]
  },
  {
   "cell_type": "code",
   "execution_count": 1,
   "metadata": {},
   "outputs": [],
   "source": [
    "import numpy as np\n",
    "import matplotlib.pyplot as plt\n",
    "import pandas as pd"
   ]
  },
  {
   "cell_type": "code",
   "execution_count": 2,
   "metadata": {},
   "outputs": [
    {
     "name": "stdout",
     "output_type": "stream",
     "text": [
      "         Date       Open       High        Low      Close  Adj Close    Volume\n",
      "0  2015-05-04  48.369999  48.869999  48.180000  48.240002  43.497272  34039500\n",
      "1  2015-05-05  47.820000  48.160000  47.310001  47.599998  42.920189  50369200\n",
      "2  2015-05-06  47.570000  47.770000  46.020000  46.279999  41.729969  52433000\n",
      "3  2015-05-07  46.270000  47.090000  46.160000  46.700001  42.108677  32971700\n",
      "4  2015-05-08  47.549999  47.980000  47.520000  47.750000  43.055447  35364900\n",
      "<class 'pandas.core.frame.DataFrame'>\n",
      "RangeIndex: 1007 entries, 0 to 1006\n",
      "Data columns (total 7 columns):\n",
      "Date         1007 non-null object\n",
      "Open         1007 non-null float64\n",
      "High         1007 non-null float64\n",
      "Low          1007 non-null float64\n",
      "Close        1007 non-null float64\n",
      "Adj Close    1007 non-null float64\n",
      "Volume       1007 non-null int64\n",
      "dtypes: float64(5), int64(1), object(1)\n",
      "memory usage: 55.2+ KB\n",
      "None\n",
      "Date         0\n",
      "Open         0\n",
      "High         0\n",
      "Low          0\n",
      "Close        0\n",
      "Adj Close    0\n",
      "Volume       0\n",
      "dtype: int64\n"
     ]
    }
   ],
   "source": [
    "dataset_train = pd.read_csv('MSFT 5-15 to 5-19.csv')\n",
    "print(dataset_train.head())\n",
    "print(dataset_train.info())\n",
    "print(dataset_train.isna().sum())\n",
    "training_set = dataset_train.iloc[:, 1:2].values"
   ]
  },
  {
   "cell_type": "code",
   "execution_count": 3,
   "metadata": {},
   "outputs": [],
   "source": [
    "from sklearn.preprocessing import MinMaxScaler\n",
    "sc = MinMaxScaler(feature_range = (0, 1))\n",
    "training_set_scaled = sc.fit_transform(training_set)"
   ]
  },
  {
   "cell_type": "code",
   "execution_count": 4,
   "metadata": {},
   "outputs": [],
   "source": [
    "X_train = []\n",
    "y_train = []\n",
    "for i in range(60, 1007):\n",
    "    X_train.append(training_set_scaled[i-60:i, 0])\n",
    "    y_train.append(training_set_scaled[i, 0])\n",
    "X_train, y_train = np.array(X_train), np.array(y_train)\n",
    "\n",
    "X_train = np.reshape(X_train, (X_train.shape[0], X_train.shape[1], 1))"
   ]
  },
  {
   "cell_type": "code",
   "execution_count": 5,
   "metadata": {},
   "outputs": [
    {
     "name": "stderr",
     "output_type": "stream",
     "text": [
      "Using TensorFlow backend.\n"
     ]
    }
   ],
   "source": [
    "from keras.models import Sequential\n",
    "from keras.layers import Dense\n",
    "from keras.layers import LSTM\n",
    "from keras.layers import Dropout"
   ]
  },
  {
   "cell_type": "code",
   "execution_count": 6,
   "metadata": {},
   "outputs": [
    {
     "name": "stdout",
     "output_type": "stream",
     "text": [
      "Epoch 1/100\n",
      "947/947 [==============================] - 14s 14ms/step - loss: 0.0250\n",
      "Epoch 2/100\n",
      "947/947 [==============================] - 10s 11ms/step - loss: 0.0032\n",
      "Epoch 3/100\n",
      "947/947 [==============================] - 10s 11ms/step - loss: 0.0025\n",
      "Epoch 4/100\n",
      "947/947 [==============================] - 11s 11ms/step - loss: 0.0025\n",
      "Epoch 5/100\n",
      "947/947 [==============================] - 10s 11ms/step - loss: 0.0021\n",
      "Epoch 6/100\n",
      "947/947 [==============================] - 10s 11ms/step - loss: 0.0021\n",
      "Epoch 7/100\n",
      "947/947 [==============================] - 10s 11ms/step - loss: 0.0019\n",
      "Epoch 8/100\n",
      "947/947 [==============================] - 11s 11ms/step - loss: 0.0021\n",
      "Epoch 9/100\n",
      "947/947 [==============================] - 11s 11ms/step - loss: 0.0023\n",
      "Epoch 10/100\n",
      "947/947 [==============================] - 11s 12ms/step - loss: 0.0026\n",
      "Epoch 11/100\n",
      "947/947 [==============================] - 10s 11ms/step - loss: 0.0022\n",
      "Epoch 12/100\n",
      "947/947 [==============================] - 11s 12ms/step - loss: 0.0019\n",
      "Epoch 13/100\n",
      "947/947 [==============================] - 10s 11ms/step - loss: 0.0020\n",
      "Epoch 14/100\n",
      "947/947 [==============================] - 10s 11ms/step - loss: 0.0022\n",
      "Epoch 15/100\n",
      "947/947 [==============================] - 10s 11ms/step - loss: 0.0022\n",
      "Epoch 16/100\n",
      "947/947 [==============================] - 10s 11ms/step - loss: 0.0019\n",
      "Epoch 17/100\n",
      "947/947 [==============================] - 10s 11ms/step - loss: 0.0017\n",
      "Epoch 18/100\n",
      "947/947 [==============================] - 10s 11ms/step - loss: 0.0015\n",
      "Epoch 19/100\n",
      "947/947 [==============================] - 11s 11ms/step - loss: 0.0022\n",
      "Epoch 20/100\n",
      "947/947 [==============================] - 10s 11ms/step - loss: 0.0022\n",
      "Epoch 21/100\n",
      "947/947 [==============================] - 11s 11ms/step - loss: 0.0016\n",
      "Epoch 22/100\n",
      "947/947 [==============================] - 10s 11ms/step - loss: 0.0018\n",
      "Epoch 23/100\n",
      "947/947 [==============================] - 10s 11ms/step - loss: 0.0016\n",
      "Epoch 24/100\n",
      "947/947 [==============================] - 10s 11ms/step - loss: 0.0016\n",
      "Epoch 25/100\n",
      "947/947 [==============================] - 11s 11ms/step - loss: 0.0017\n",
      "Epoch 26/100\n",
      "947/947 [==============================] - 11s 11ms/step - loss: 0.0016\n",
      "Epoch 27/100\n",
      "947/947 [==============================] - 11s 11ms/step - loss: 0.0016\n",
      "Epoch 28/100\n",
      "947/947 [==============================] - 10s 11ms/step - loss: 0.0017\n",
      "Epoch 29/100\n",
      "947/947 [==============================] - 11s 11ms/step - loss: 0.0017\n",
      "Epoch 30/100\n",
      "947/947 [==============================] - 11s 11ms/step - loss: 0.0020\n",
      "Epoch 31/100\n",
      "947/947 [==============================] - 10s 11ms/step - loss: 0.0018\n",
      "Epoch 32/100\n",
      "947/947 [==============================] - 11s 11ms/step - loss: 0.0015\n",
      "Epoch 33/100\n",
      "947/947 [==============================] - 10s 11ms/step - loss: 0.0016\n",
      "Epoch 34/100\n",
      "947/947 [==============================] - 10s 10ms/step - loss: 0.0014\n",
      "Epoch 35/100\n",
      "947/947 [==============================] - 10s 11ms/step - loss: 0.0014\n",
      "Epoch 36/100\n",
      "947/947 [==============================] - 10s 11ms/step - loss: 0.0013\n",
      "Epoch 37/100\n",
      "947/947 [==============================] - 10s 11ms/step - loss: 0.0013\n",
      "Epoch 38/100\n",
      "947/947 [==============================] - 10s 11ms/step - loss: 0.0016\n",
      "Epoch 39/100\n",
      "947/947 [==============================] - 10s 11ms/step - loss: 0.0017\n",
      "Epoch 40/100\n",
      "947/947 [==============================] - 10s 11ms/step - loss: 0.0012\n",
      "Epoch 41/100\n",
      "947/947 [==============================] - 10s 11ms/step - loss: 0.0014\n",
      "Epoch 42/100\n",
      "947/947 [==============================] - 10s 11ms/step - loss: 0.0013\n",
      "Epoch 43/100\n",
      "947/947 [==============================] - 10s 11ms/step - loss: 0.0016\n",
      "Epoch 44/100\n",
      "947/947 [==============================] - 10s 11ms/step - loss: 0.0014\n",
      "Epoch 45/100\n",
      "947/947 [==============================] - 10s 11ms/step - loss: 0.0015\n",
      "Epoch 46/100\n",
      "947/947 [==============================] - 10s 11ms/step - loss: 0.0012\n",
      "Epoch 47/100\n",
      "947/947 [==============================] - 10s 11ms/step - loss: 0.0014\n",
      "Epoch 48/100\n",
      "947/947 [==============================] - 10s 11ms/step - loss: 0.0014\n",
      "Epoch 49/100\n",
      "947/947 [==============================] - 10s 11ms/step - loss: 0.0014\n",
      "Epoch 50/100\n",
      "947/947 [==============================] - 10s 11ms/step - loss: 0.0014\n",
      "Epoch 51/100\n",
      "947/947 [==============================] - 10s 11ms/step - loss: 0.0014\n",
      "Epoch 52/100\n",
      "947/947 [==============================] - 10s 11ms/step - loss: 0.0011\n",
      "Epoch 53/100\n",
      "947/947 [==============================] - 10s 10ms/step - loss: 0.0015\n",
      "Epoch 54/100\n",
      "947/947 [==============================] - 10s 11ms/step - loss: 0.0014\n",
      "Epoch 55/100\n",
      "947/947 [==============================] - 10s 11ms/step - loss: 0.0012\n",
      "Epoch 56/100\n",
      "947/947 [==============================] - 10s 11ms/step - loss: 0.0014\n",
      "Epoch 57/100\n",
      "947/947 [==============================] - 10s 11ms/step - loss: 0.0012\n",
      "Epoch 58/100\n",
      "947/947 [==============================] - 10s 11ms/step - loss: 9.8857e-04\n",
      "Epoch 59/100\n",
      "947/947 [==============================] - 10s 11ms/step - loss: 0.0011\n",
      "Epoch 60/100\n",
      "947/947 [==============================] - 10s 11ms/step - loss: 0.0011\n",
      "Epoch 61/100\n",
      "947/947 [==============================] - 10s 10ms/step - loss: 0.0011\n",
      "Epoch 62/100\n",
      "947/947 [==============================] - 10s 11ms/step - loss: 0.0014\n",
      "Epoch 63/100\n",
      "947/947 [==============================] - 10s 11ms/step - loss: 0.0012\n",
      "Epoch 64/100\n",
      "947/947 [==============================] - 10s 11ms/step - loss: 0.0012\n",
      "Epoch 65/100\n",
      "947/947 [==============================] - 10s 11ms/step - loss: 0.0012\n",
      "Epoch 66/100\n",
      "947/947 [==============================] - 10s 10ms/step - loss: 0.0011\n",
      "Epoch 67/100\n",
      "947/947 [==============================] - 10s 11ms/step - loss: 0.0012\n",
      "Epoch 68/100\n",
      "947/947 [==============================] - 10s 11ms/step - loss: 0.0011\n",
      "Epoch 69/100\n",
      "947/947 [==============================] - 10s 11ms/step - loss: 0.0012\n",
      "Epoch 70/100\n",
      "947/947 [==============================] - 10s 11ms/step - loss: 0.0012\n",
      "Epoch 71/100\n",
      "947/947 [==============================] - 10s 11ms/step - loss: 0.0010\n",
      "Epoch 72/100\n",
      "947/947 [==============================] - 10s 11ms/step - loss: 0.0010\n",
      "Epoch 73/100\n",
      "947/947 [==============================] - 10s 11ms/step - loss: 0.0011\n",
      "Epoch 74/100\n",
      "947/947 [==============================] - 10s 11ms/step - loss: 9.9125e-04\n",
      "Epoch 75/100\n",
      "947/947 [==============================] - 10s 11ms/step - loss: 0.0011\n",
      "Epoch 76/100\n",
      "947/947 [==============================] - 10s 11ms/step - loss: 0.0013\n",
      "Epoch 77/100\n",
      "947/947 [==============================] - 10s 11ms/step - loss: 0.0011\n",
      "Epoch 78/100\n",
      "947/947 [==============================] - 10s 11ms/step - loss: 9.4973e-04\n",
      "Epoch 79/100\n",
      "947/947 [==============================] - 10s 11ms/step - loss: 0.0010\n",
      "Epoch 80/100\n",
      "947/947 [==============================] - 10s 11ms/step - loss: 9.4531e-04\n",
      "Epoch 81/100\n",
      "947/947 [==============================] - 10s 11ms/step - loss: 8.7651e-04\n",
      "Epoch 82/100\n",
      "947/947 [==============================] - 10s 11ms/step - loss: 0.0011\n",
      "Epoch 83/100\n",
      "947/947 [==============================] - 10s 11ms/step - loss: 9.4972e-04\n",
      "Epoch 84/100\n",
      "947/947 [==============================] - 10s 11ms/step - loss: 0.0010\n",
      "Epoch 85/100\n",
      "947/947 [==============================] - 10s 11ms/step - loss: 9.2641e-04\n",
      "Epoch 86/100\n",
      "947/947 [==============================] - 10s 11ms/step - loss: 0.0010\n",
      "Epoch 87/100\n",
      "947/947 [==============================] - 10s 11ms/step - loss: 8.5315e-04\n",
      "Epoch 88/100\n",
      "947/947 [==============================] - 10s 11ms/step - loss: 8.8596e-04\n",
      "Epoch 89/100\n",
      "947/947 [==============================] - 10s 11ms/step - loss: 0.0011\n",
      "Epoch 90/100\n",
      "947/947 [==============================] - 10s 11ms/step - loss: 9.7479e-04\n",
      "Epoch 91/100\n",
      "947/947 [==============================] - 10s 11ms/step - loss: 0.0012\n",
      "Epoch 92/100\n",
      "947/947 [==============================] - 10s 11ms/step - loss: 9.9845e-04\n",
      "Epoch 93/100\n",
      "947/947 [==============================] - 10s 11ms/step - loss: 9.2276e-04\n",
      "Epoch 94/100\n",
      "947/947 [==============================] - 11s 11ms/step - loss: 9.4995e-04\n",
      "Epoch 95/100\n",
      "947/947 [==============================] - 10s 11ms/step - loss: 0.0010\n",
      "Epoch 96/100\n"
     ]
    },
    {
     "name": "stdout",
     "output_type": "stream",
     "text": [
      "947/947 [==============================] - 11s 11ms/step - loss: 0.0014\n",
      "Epoch 97/100\n",
      "947/947 [==============================] - 10s 11ms/step - loss: 0.0012\n",
      "Epoch 98/100\n",
      "947/947 [==============================] - 10s 11ms/step - loss: 8.5748e-04\n",
      "Epoch 99/100\n",
      "947/947 [==============================] - 10s 11ms/step - loss: 8.3018e-04\n",
      "Epoch 100/100\n",
      "947/947 [==============================] - 10s 11ms/step - loss: 9.5033e-04\n"
     ]
    },
    {
     "data": {
      "text/plain": [
       "<keras.callbacks.callbacks.History at 0x1f5ce729e88>"
      ]
     },
     "execution_count": 6,
     "metadata": {},
     "output_type": "execute_result"
    }
   ],
   "source": [
    "regressor = Sequential()\n",
    "\n",
    "regressor.add(LSTM(units = 100, return_sequences = True, input_shape = (X_train.shape[1], 1)))\n",
    "regressor.add(Dropout(0.2))\n",
    "\n",
    "regressor.add(LSTM(units = 100, return_sequences = True))\n",
    "regressor.add(Dropout(0.2))\n",
    "\n",
    "regressor.add(LSTM(units = 100, return_sequences = True))\n",
    "regressor.add(Dropout(0.2))\n",
    "\n",
    "regressor.add(LSTM(units = 100))\n",
    "regressor.add(Dropout(0.2))\n",
    "\n",
    "regressor.add(Dense(units = 1))\n",
    "\n",
    "regressor.compile(optimizer = 'adam', loss = 'mean_squared_error')\n",
    "\n",
    "regressor.fit(X_train, y_train, epochs = 100, batch_size = 32)"
   ]
  },
  {
   "cell_type": "code",
   "execution_count": 7,
   "metadata": {},
   "outputs": [
    {
     "name": "stdout",
     "output_type": "stream",
     "text": [
      "Model: \"sequential_1\"\n",
      "_________________________________________________________________\n",
      "Layer (type)                 Output Shape              Param #   \n",
      "=================================================================\n",
      "lstm_1 (LSTM)                (None, 60, 100)           40800     \n",
      "_________________________________________________________________\n",
      "dropout_1 (Dropout)          (None, 60, 100)           0         \n",
      "_________________________________________________________________\n",
      "lstm_2 (LSTM)                (None, 60, 100)           80400     \n",
      "_________________________________________________________________\n",
      "dropout_2 (Dropout)          (None, 60, 100)           0         \n",
      "_________________________________________________________________\n",
      "lstm_3 (LSTM)                (None, 60, 100)           80400     \n",
      "_________________________________________________________________\n",
      "dropout_3 (Dropout)          (None, 60, 100)           0         \n",
      "_________________________________________________________________\n",
      "lstm_4 (LSTM)                (None, 100)               80400     \n",
      "_________________________________________________________________\n",
      "dropout_4 (Dropout)          (None, 100)               0         \n",
      "_________________________________________________________________\n",
      "dense_1 (Dense)              (None, 1)                 101       \n",
      "=================================================================\n",
      "Total params: 282,101\n",
      "Trainable params: 282,101\n",
      "Non-trainable params: 0\n",
      "_________________________________________________________________\n",
      "None\n"
     ]
    }
   ],
   "source": [
    "print(regressor.summary())"
   ]
  },
  {
   "cell_type": "code",
   "execution_count": 8,
   "metadata": {},
   "outputs": [],
   "source": [
    "dataset_test = pd.read_csv('MSFT.csv')\n",
    "real_stock_price = dataset_test.iloc[:, 1:2].values"
   ]
  },
  {
   "cell_type": "code",
   "execution_count": 9,
   "metadata": {},
   "outputs": [],
   "source": [
    "dataset_total = pd.concat((dataset_train['Open'], dataset_test['Open']), axis = 0)\n",
    "inputs = dataset_total[len(dataset_total) - len(dataset_test) - 60:].values\n",
    "inputs = inputs.reshape(-1,1)\n",
    "inputs = sc.transform(inputs)"
   ]
  },
  {
   "cell_type": "code",
   "execution_count": 10,
   "metadata": {},
   "outputs": [],
   "source": [
    "X_test = []\n",
    "for i in range(60, 312):\n",
    "    X_test.append(inputs[i-60:i, 0])\n",
    "X_test = np.array(X_test)\n",
    "X_test = np.reshape(X_test, (X_test.shape[0], X_test.shape[1], 1))\n",
    "predicted_stock_price = regressor.predict(X_test)\n",
    "predicted_stock_price = sc.inverse_transform(predicted_stock_price)"
   ]
  },
  {
   "cell_type": "code",
   "execution_count": 11,
   "metadata": {},
   "outputs": [
    {
     "name": "stdout",
     "output_type": "stream",
     "text": [
      "MSE: 25.26\n",
      "RMSE: 5.03\n"
     ]
    }
   ],
   "source": [
    "from sklearn.metrics import mean_squared_error\n",
    "mse = mean_squared_error(real_stock_price, predicted_stock_price)\n",
    "rmse = np.sqrt(mse)\n",
    "print('MSE: %.2f'% mse)\n",
    "print('RMSE: %.2f'% rmse)"
   ]
  },
  {
   "cell_type": "code",
   "execution_count": 12,
   "metadata": {},
   "outputs": [
    {
     "data": {
      "image/png": "[encoded data removed]",
      "text/plain": [
       "<Figure size 432x288 with 1 Axes>"
      ]
     },
     "metadata": {
      "needs_background": "light"
     },
     "output_type": "display_data"
    }
   ],
   "source": [
    "plt.plot(real_stock_price, color = 'red', label = 'Real MSFT Stock Price')\n",
    "plt.plot(predicted_stock_price, color = 'blue', label = 'Predicted MSFT Stock Price')\n",
    "plt.title('MSFT Stock Price Prediction')\n",
    "plt.xlabel('Time')\n",
    "plt.ylabel('MSFT Stock Price')\n",
    "plt.legend()\n",
    "plt.show()"
   ]
  },
  {
   "cell_type": "code",
   "execution_count": 13,
   "metadata": {},
   "outputs": [],
   "source": [
    "n_epochs = [50, 100]\n",
    "n_batch = [32, 64]"
   ]
  },
  {
   "cell_type": "code",
   "execution_count": 14,
   "metadata": {},
   "outputs": [],
   "source": [
    "def model_fit(X_train, y_train):\n",
    "    model = Sequential()\n",
    "    model.add(LSTM(units = 100, return_sequences = True, input_shape=(X_train.shape[1],1)))\n",
    "    model.add(Dropout(0.2))\n",
    "    model.add(LSTM(units = 100, return_sequences = True))\n",
    "    model.add(Dropout(0.2))\n",
    "    model.add(LSTM(units = 100, return_sequences = True))\n",
    "    model.add(Dropout(0.2))\n",
    "    model.add(LSTM(units = 100))\n",
    "    model.add(Dropout(0.2))\n",
    "    model.add(Dense(units = 1))\n",
    "    model.compile(loss='mse', optimizer='adam')\n",
    "    \n",
    "    model.fit(X_train, y_train, epochs = n_epochs, batch_size = n_batch)\n",
    "    return model"
   ]
  },
  {
   "cell_type": "code",
   "execution_count": 15,
   "metadata": {},
   "outputs": [],
   "source": [
    "def walk_forward_validation(X_train, X_test, cfg):\n",
    "    predictions = list()\n",
    "    # split dataset\n",
    "    # fit model\n",
    "    model = model_fit(X_train, cfg)\n",
    "    # seed history with training dataset\n",
    "    history = [x for x in X_train]\n",
    "    # step over each time-step in the test set\n",
    "    for i in range(len(X_test)):\n",
    "        # fit model and make forecast for history\n",
    "        yhat = model_predict(model, history, cfg)\n",
    "        # store forecast in list of predictions\n",
    "        predictions.append(yhat)\n",
    "        # add actual observation to history for the next loop\n",
    "        history.append(test[i])\n",
    "    # estimate prediction error\n",
    "    error = measure_rmse(X_test, predictions)\n",
    "    print(' > %.3f' % error)\n",
    "    return error"
   ]
  },
  {
   "cell_type": "code",
   "execution_count": 16,
   "metadata": {},
   "outputs": [],
   "source": [
    "def repeat_evaluate(X_train, config, X_test, n_repeats=10):\n",
    "    # convert config to a key\n",
    "    key = str(config)\n",
    "    # fit and evaluate the model n times\n",
    "    scores = [walk_forward_validation(X_train, X_test, config) for _ in range(n_repeats)]\n",
    "    # summarize score\n",
    "    result = mean(scores)\n",
    "    print('> Model[%s] %.3f' % (key, result))\n",
    "    return (key, result)"
   ]
  },
  {
   "cell_type": "code",
   "execution_count": 17,
   "metadata": {},
   "outputs": [],
   "source": [
    "def grid_search(X_train, cfg_list, X_test):\n",
    "    # evaluate configs\n",
    "    scores = [repeat_evaluate(X_train, cfg, X_test) for cfg in cfg_list]\n",
    "    # sort configs by error, asc\n",
    "    scores.sort(key=lambda tup: tup[1])\n",
    "    return scores"
   ]
  },
  {
   "cell_type": "code",
   "execution_count": 18,
   "metadata": {},
   "outputs": [],
   "source": [
    "def model_configs():\n",
    "    # define scope of configs\n",
    "    n_epochs = [50, 100]\n",
    "    n_batch = [32, 64]\n",
    "    # create configs\n",
    "    configs = list()\n",
    "    for i in n_epochs:\n",
    "        for j in n_batch:    \n",
    "            cfg = [i, j]\n",
    "            configs.append(cfg)\n",
    "    print('Total configs: %d' % len(configs))\n",
    "    return configs"
   ]
  },
  {
   "cell_type": "code",
   "execution_count": 19,
   "metadata": {},
   "outputs": [
    {
     "name": "stdout",
     "output_type": "stream",
     "text": [
      "Total configs: 4\n"
     ]
    },
    {
     "ename": "ValueError",
     "evalue": "Input arrays should have the same number of samples as target arrays. Found 947 input samples and 2 target samples.",
     "output_type": "error",
     "traceback": [
      "\u001b[1;31m---------------------------------------------------------------------------\u001b[0m",
      "\u001b[1;31mValueError\u001b[0m                                Traceback (most recent call last)",
      "\u001b[1;32m<ipython-input-19-5d078d23f828>\u001b[0m in \u001b[0;36m<module>\u001b[1;34m\u001b[0m\n\u001b[0;32m      1\u001b[0m \u001b[0mcfg_list\u001b[0m \u001b[1;33m=\u001b[0m \u001b[0mmodel_configs\u001b[0m\u001b[1;33m(\u001b[0m\u001b[1;33m)\u001b[0m\u001b[1;33m\u001b[0m\u001b[1;33m\u001b[0m\u001b[0m\n\u001b[0;32m      2\u001b[0m \u001b[1;31m# grid search\u001b[0m\u001b[1;33m\u001b[0m\u001b[1;33m\u001b[0m\u001b[1;33m\u001b[0m\u001b[0m\n\u001b[1;32m----> 3\u001b[1;33m \u001b[0mscores\u001b[0m \u001b[1;33m=\u001b[0m \u001b[0mgrid_search\u001b[0m\u001b[1;33m(\u001b[0m\u001b[0mX_train\u001b[0m\u001b[1;33m,\u001b[0m \u001b[0mcfg_list\u001b[0m\u001b[1;33m,\u001b[0m \u001b[0mX_test\u001b[0m\u001b[1;33m)\u001b[0m\u001b[1;33m\u001b[0m\u001b[1;33m\u001b[0m\u001b[0m\n\u001b[0m\u001b[0;32m      4\u001b[0m \u001b[0mprint\u001b[0m\u001b[1;33m(\u001b[0m\u001b[1;34m'done'\u001b[0m\u001b[1;33m)\u001b[0m\u001b[1;33m\u001b[0m\u001b[1;33m\u001b[0m\u001b[0m\n\u001b[0;32m      5\u001b[0m \u001b[1;31m# list top 10 configs\u001b[0m\u001b[1;33m\u001b[0m\u001b[1;33m\u001b[0m\u001b[1;33m\u001b[0m\u001b[0m\n",
      "\u001b[1;32m<ipython-input-17-cea9fd59fa09>\u001b[0m in \u001b[0;36mgrid_search\u001b[1;34m(X_train, cfg_list, X_test)\u001b[0m\n\u001b[0;32m      1\u001b[0m \u001b[1;32mdef\u001b[0m \u001b[0mgrid_search\u001b[0m\u001b[1;33m(\u001b[0m\u001b[0mX_train\u001b[0m\u001b[1;33m,\u001b[0m \u001b[0mcfg_list\u001b[0m\u001b[1;33m,\u001b[0m \u001b[0mX_test\u001b[0m\u001b[1;33m)\u001b[0m\u001b[1;33m:\u001b[0m\u001b[1;33m\u001b[0m\u001b[1;33m\u001b[0m\u001b[0m\n\u001b[0;32m      2\u001b[0m     \u001b[1;31m# evaluate configs\u001b[0m\u001b[1;33m\u001b[0m\u001b[1;33m\u001b[0m\u001b[1;33m\u001b[0m\u001b[0m\n\u001b[1;32m----> 3\u001b[1;33m     \u001b[0mscores\u001b[0m \u001b[1;33m=\u001b[0m \u001b[1;33m[\u001b[0m\u001b[0mrepeat_evaluate\u001b[0m\u001b[1;33m(\u001b[0m\u001b[0mX_train\u001b[0m\u001b[1;33m,\u001b[0m \u001b[0mcfg\u001b[0m\u001b[1;33m,\u001b[0m \u001b[0mX_test\u001b[0m\u001b[1;33m)\u001b[0m \u001b[1;32mfor\u001b[0m \u001b[0mcfg\u001b[0m \u001b[1;32min\u001b[0m \u001b[0mcfg_list\u001b[0m\u001b[1;33m]\u001b[0m\u001b[1;33m\u001b[0m\u001b[1;33m\u001b[0m\u001b[0m\n\u001b[0m\u001b[0;32m      4\u001b[0m     \u001b[1;31m# sort configs by error, asc\u001b[0m\u001b[1;33m\u001b[0m\u001b[1;33m\u001b[0m\u001b[1;33m\u001b[0m\u001b[0m\n\u001b[0;32m      5\u001b[0m     \u001b[0mscores\u001b[0m\u001b[1;33m.\u001b[0m\u001b[0msort\u001b[0m\u001b[1;33m(\u001b[0m\u001b[0mkey\u001b[0m\u001b[1;33m=\u001b[0m\u001b[1;32mlambda\u001b[0m \u001b[0mtup\u001b[0m\u001b[1;33m:\u001b[0m \u001b[0mtup\u001b[0m\u001b[1;33m[\u001b[0m\u001b[1;36m1\u001b[0m\u001b[1;33m]\u001b[0m\u001b[1;33m)\u001b[0m\u001b[1;33m\u001b[0m\u001b[1;33m\u001b[0m\u001b[0m\n",
      "\u001b[1;32m<ipython-input-17-cea9fd59fa09>\u001b[0m in \u001b[0;36m<listcomp>\u001b[1;34m(.0)\u001b[0m\n\u001b[0;32m      1\u001b[0m \u001b[1;32mdef\u001b[0m \u001b[0mgrid_search\u001b[0m\u001b[1;33m(\u001b[0m\u001b[0mX_train\u001b[0m\u001b[1;33m,\u001b[0m \u001b[0mcfg_list\u001b[0m\u001b[1;33m,\u001b[0m \u001b[0mX_test\u001b[0m\u001b[1;33m)\u001b[0m\u001b[1;33m:\u001b[0m\u001b[1;33m\u001b[0m\u001b[1;33m\u001b[0m\u001b[0m\n\u001b[0;32m      2\u001b[0m     \u001b[1;31m# evaluate configs\u001b[0m\u001b[1;33m\u001b[0m\u001b[1;33m\u001b[0m\u001b[1;33m\u001b[0m\u001b[0m\n\u001b[1;32m----> 3\u001b[1;33m     \u001b[0mscores\u001b[0m \u001b[1;33m=\u001b[0m \u001b[1;33m[\u001b[0m\u001b[0mrepeat_evaluate\u001b[0m\u001b[1;33m(\u001b[0m\u001b[0mX_train\u001b[0m\u001b[1;33m,\u001b[0m \u001b[0mcfg\u001b[0m\u001b[1;33m,\u001b[0m \u001b[0mX_test\u001b[0m\u001b[1;33m)\u001b[0m \u001b[1;32mfor\u001b[0m \u001b[0mcfg\u001b[0m \u001b[1;32min\u001b[0m \u001b[0mcfg_list\u001b[0m\u001b[1;33m]\u001b[0m\u001b[1;33m\u001b[0m\u001b[1;33m\u001b[0m\u001b[0m\n\u001b[0m\u001b[0;32m      4\u001b[0m     \u001b[1;31m# sort configs by error, asc\u001b[0m\u001b[1;33m\u001b[0m\u001b[1;33m\u001b[0m\u001b[1;33m\u001b[0m\u001b[0m\n\u001b[0;32m      5\u001b[0m     \u001b[0mscores\u001b[0m\u001b[1;33m.\u001b[0m\u001b[0msort\u001b[0m\u001b[1;33m(\u001b[0m\u001b[0mkey\u001b[0m\u001b[1;33m=\u001b[0m\u001b[1;32mlambda\u001b[0m \u001b[0mtup\u001b[0m\u001b[1;33m:\u001b[0m \u001b[0mtup\u001b[0m\u001b[1;33m[\u001b[0m\u001b[1;36m1\u001b[0m\u001b[1;33m]\u001b[0m\u001b[1;33m)\u001b[0m\u001b[1;33m\u001b[0m\u001b[1;33m\u001b[0m\u001b[0m\n",
      "\u001b[1;32m<ipython-input-16-608e308e72a0>\u001b[0m in \u001b[0;36mrepeat_evaluate\u001b[1;34m(X_train, config, X_test, n_repeats)\u001b[0m\n\u001b[0;32m      3\u001b[0m     \u001b[0mkey\u001b[0m \u001b[1;33m=\u001b[0m \u001b[0mstr\u001b[0m\u001b[1;33m(\u001b[0m\u001b[0mconfig\u001b[0m\u001b[1;33m)\u001b[0m\u001b[1;33m\u001b[0m\u001b[1;33m\u001b[0m\u001b[0m\n\u001b[0;32m      4\u001b[0m     \u001b[1;31m# fit and evaluate the model n times\u001b[0m\u001b[1;33m\u001b[0m\u001b[1;33m\u001b[0m\u001b[1;33m\u001b[0m\u001b[0m\n\u001b[1;32m----> 5\u001b[1;33m     \u001b[0mscores\u001b[0m \u001b[1;33m=\u001b[0m \u001b[1;33m[\u001b[0m\u001b[0mwalk_forward_validation\u001b[0m\u001b[1;33m(\u001b[0m\u001b[0mX_train\u001b[0m\u001b[1;33m,\u001b[0m \u001b[0mX_test\u001b[0m\u001b[1;33m,\u001b[0m \u001b[0mconfig\u001b[0m\u001b[1;33m)\u001b[0m \u001b[1;32mfor\u001b[0m \u001b[0m_\u001b[0m \u001b[1;32min\u001b[0m \u001b[0mrange\u001b[0m\u001b[1;33m(\u001b[0m\u001b[0mn_repeats\u001b[0m\u001b[1;33m)\u001b[0m\u001b[1;33m]\u001b[0m\u001b[1;33m\u001b[0m\u001b[1;33m\u001b[0m\u001b[0m\n\u001b[0m\u001b[0;32m      6\u001b[0m     \u001b[1;31m# summarize score\u001b[0m\u001b[1;33m\u001b[0m\u001b[1;33m\u001b[0m\u001b[1;33m\u001b[0m\u001b[0m\n\u001b[0;32m      7\u001b[0m     \u001b[0mresult\u001b[0m \u001b[1;33m=\u001b[0m \u001b[0mmean\u001b[0m\u001b[1;33m(\u001b[0m\u001b[0mscores\u001b[0m\u001b[1;33m)\u001b[0m\u001b[1;33m\u001b[0m\u001b[1;33m\u001b[0m\u001b[0m\n",
      "\u001b[1;32m<ipython-input-16-608e308e72a0>\u001b[0m in \u001b[0;36m<listcomp>\u001b[1;34m(.0)\u001b[0m\n\u001b[0;32m      3\u001b[0m     \u001b[0mkey\u001b[0m \u001b[1;33m=\u001b[0m \u001b[0mstr\u001b[0m\u001b[1;33m(\u001b[0m\u001b[0mconfig\u001b[0m\u001b[1;33m)\u001b[0m\u001b[1;33m\u001b[0m\u001b[1;33m\u001b[0m\u001b[0m\n\u001b[0;32m      4\u001b[0m     \u001b[1;31m# fit and evaluate the model n times\u001b[0m\u001b[1;33m\u001b[0m\u001b[1;33m\u001b[0m\u001b[1;33m\u001b[0m\u001b[0m\n\u001b[1;32m----> 5\u001b[1;33m     \u001b[0mscores\u001b[0m \u001b[1;33m=\u001b[0m \u001b[1;33m[\u001b[0m\u001b[0mwalk_forward_validation\u001b[0m\u001b[1;33m(\u001b[0m\u001b[0mX_train\u001b[0m\u001b[1;33m,\u001b[0m \u001b[0mX_test\u001b[0m\u001b[1;33m,\u001b[0m \u001b[0mconfig\u001b[0m\u001b[1;33m)\u001b[0m \u001b[1;32mfor\u001b[0m \u001b[0m_\u001b[0m \u001b[1;32min\u001b[0m \u001b[0mrange\u001b[0m\u001b[1;33m(\u001b[0m\u001b[0mn_repeats\u001b[0m\u001b[1;33m)\u001b[0m\u001b[1;33m]\u001b[0m\u001b[1;33m\u001b[0m\u001b[1;33m\u001b[0m\u001b[0m\n\u001b[0m\u001b[0;32m      6\u001b[0m     \u001b[1;31m# summarize score\u001b[0m\u001b[1;33m\u001b[0m\u001b[1;33m\u001b[0m\u001b[1;33m\u001b[0m\u001b[0m\n\u001b[0;32m      7\u001b[0m     \u001b[0mresult\u001b[0m \u001b[1;33m=\u001b[0m \u001b[0mmean\u001b[0m\u001b[1;33m(\u001b[0m\u001b[0mscores\u001b[0m\u001b[1;33m)\u001b[0m\u001b[1;33m\u001b[0m\u001b[1;33m\u001b[0m\u001b[0m\n",
      "\u001b[1;32m<ipython-input-15-82afe6cf652b>\u001b[0m in \u001b[0;36mwalk_forward_validation\u001b[1;34m(X_train, X_test, cfg)\u001b[0m\n\u001b[0;32m      3\u001b[0m     \u001b[1;31m# split dataset\u001b[0m\u001b[1;33m\u001b[0m\u001b[1;33m\u001b[0m\u001b[1;33m\u001b[0m\u001b[0m\n\u001b[0;32m      4\u001b[0m     \u001b[1;31m# fit model\u001b[0m\u001b[1;33m\u001b[0m\u001b[1;33m\u001b[0m\u001b[1;33m\u001b[0m\u001b[0m\n\u001b[1;32m----> 5\u001b[1;33m     \u001b[0mmodel\u001b[0m \u001b[1;33m=\u001b[0m \u001b[0mmodel_fit\u001b[0m\u001b[1;33m(\u001b[0m\u001b[0mX_train\u001b[0m\u001b[1;33m,\u001b[0m \u001b[0mcfg\u001b[0m\u001b[1;33m)\u001b[0m\u001b[1;33m\u001b[0m\u001b[1;33m\u001b[0m\u001b[0m\n\u001b[0m\u001b[0;32m      6\u001b[0m     \u001b[1;31m# seed history with training dataset\u001b[0m\u001b[1;33m\u001b[0m\u001b[1;33m\u001b[0m\u001b[1;33m\u001b[0m\u001b[0m\n\u001b[0;32m      7\u001b[0m     \u001b[0mhistory\u001b[0m \u001b[1;33m=\u001b[0m \u001b[1;33m[\u001b[0m\u001b[0mx\u001b[0m \u001b[1;32mfor\u001b[0m \u001b[0mx\u001b[0m \u001b[1;32min\u001b[0m \u001b[0mX_train\u001b[0m\u001b[1;33m]\u001b[0m\u001b[1;33m\u001b[0m\u001b[1;33m\u001b[0m\u001b[0m\n",
      "\u001b[1;32m<ipython-input-14-15c043ad8d29>\u001b[0m in \u001b[0;36mmodel_fit\u001b[1;34m(X_train, y_train)\u001b[0m\n\u001b[0;32m     12\u001b[0m     \u001b[0mmodel\u001b[0m\u001b[1;33m.\u001b[0m\u001b[0mcompile\u001b[0m\u001b[1;33m(\u001b[0m\u001b[0mloss\u001b[0m\u001b[1;33m=\u001b[0m\u001b[1;34m'mse'\u001b[0m\u001b[1;33m,\u001b[0m \u001b[0moptimizer\u001b[0m\u001b[1;33m=\u001b[0m\u001b[1;34m'adam'\u001b[0m\u001b[1;33m)\u001b[0m\u001b[1;33m\u001b[0m\u001b[1;33m\u001b[0m\u001b[0m\n\u001b[0;32m     13\u001b[0m \u001b[1;33m\u001b[0m\u001b[0m\n\u001b[1;32m---> 14\u001b[1;33m     \u001b[0mmodel\u001b[0m\u001b[1;33m.\u001b[0m\u001b[0mfit\u001b[0m\u001b[1;33m(\u001b[0m\u001b[0mX_train\u001b[0m\u001b[1;33m,\u001b[0m \u001b[0my_train\u001b[0m\u001b[1;33m,\u001b[0m \u001b[0mepochs\u001b[0m \u001b[1;33m=\u001b[0m \u001b[0mn_epochs\u001b[0m\u001b[1;33m,\u001b[0m \u001b[0mbatch_size\u001b[0m \u001b[1;33m=\u001b[0m \u001b[0mn_batch\u001b[0m\u001b[1;33m)\u001b[0m\u001b[1;33m\u001b[0m\u001b[1;33m\u001b[0m\u001b[0m\n\u001b[0m\u001b[0;32m     15\u001b[0m     \u001b[1;32mreturn\u001b[0m \u001b[0mmodel\u001b[0m\u001b[1;33m\u001b[0m\u001b[1;33m\u001b[0m\u001b[0m\n",
      "\u001b[1;32m~\\Anaconda3\\lib\\site-packages\\keras\\engine\\training.py\u001b[0m in \u001b[0;36mfit\u001b[1;34m(self, x, y, batch_size, epochs, verbose, callbacks, validation_split, validation_data, shuffle, class_weight, sample_weight, initial_epoch, steps_per_epoch, validation_steps, validation_freq, max_queue_size, workers, use_multiprocessing, **kwargs)\u001b[0m\n\u001b[0;32m   1152\u001b[0m             \u001b[0msample_weight\u001b[0m\u001b[1;33m=\u001b[0m\u001b[0msample_weight\u001b[0m\u001b[1;33m,\u001b[0m\u001b[1;33m\u001b[0m\u001b[1;33m\u001b[0m\u001b[0m\n\u001b[0;32m   1153\u001b[0m             \u001b[0mclass_weight\u001b[0m\u001b[1;33m=\u001b[0m\u001b[0mclass_weight\u001b[0m\u001b[1;33m,\u001b[0m\u001b[1;33m\u001b[0m\u001b[1;33m\u001b[0m\u001b[0m\n\u001b[1;32m-> 1154\u001b[1;33m             batch_size=batch_size)\n\u001b[0m\u001b[0;32m   1155\u001b[0m \u001b[1;33m\u001b[0m\u001b[0m\n\u001b[0;32m   1156\u001b[0m         \u001b[1;31m# Prepare validation data.\u001b[0m\u001b[1;33m\u001b[0m\u001b[1;33m\u001b[0m\u001b[1;33m\u001b[0m\u001b[0m\n",
      "\u001b[1;32m~\\Anaconda3\\lib\\site-packages\\keras\\engine\\training.py\u001b[0m in \u001b[0;36m_standardize_user_data\u001b[1;34m(self, x, y, sample_weight, class_weight, check_array_lengths, batch_size)\u001b[0m\n\u001b[0;32m    635\u001b[0m             \u001b[1;31m# Check that all arrays have the same length.\u001b[0m\u001b[1;33m\u001b[0m\u001b[1;33m\u001b[0m\u001b[1;33m\u001b[0m\u001b[0m\n\u001b[0;32m    636\u001b[0m             \u001b[1;32mif\u001b[0m \u001b[0mcheck_array_lengths\u001b[0m\u001b[1;33m:\u001b[0m\u001b[1;33m\u001b[0m\u001b[1;33m\u001b[0m\u001b[0m\n\u001b[1;32m--> 637\u001b[1;33m                 \u001b[0mtraining_utils\u001b[0m\u001b[1;33m.\u001b[0m\u001b[0mcheck_array_length_consistency\u001b[0m\u001b[1;33m(\u001b[0m\u001b[0mx\u001b[0m\u001b[1;33m,\u001b[0m \u001b[0my\u001b[0m\u001b[1;33m,\u001b[0m \u001b[0msample_weights\u001b[0m\u001b[1;33m)\u001b[0m\u001b[1;33m\u001b[0m\u001b[1;33m\u001b[0m\u001b[0m\n\u001b[0m\u001b[0;32m    638\u001b[0m             \u001b[1;32mif\u001b[0m \u001b[0mself\u001b[0m\u001b[1;33m.\u001b[0m\u001b[0m_is_graph_network\u001b[0m\u001b[1;33m:\u001b[0m\u001b[1;33m\u001b[0m\u001b[1;33m\u001b[0m\u001b[0m\n\u001b[0;32m    639\u001b[0m                 \u001b[1;31m# Additional checks to avoid users mistakenly\u001b[0m\u001b[1;33m\u001b[0m\u001b[1;33m\u001b[0m\u001b[1;33m\u001b[0m\u001b[0m\n",
      "\u001b[1;32m~\\Anaconda3\\lib\\site-packages\\keras\\engine\\training_utils.py\u001b[0m in \u001b[0;36mcheck_array_length_consistency\u001b[1;34m(inputs, targets, weights)\u001b[0m\n\u001b[0;32m    242\u001b[0m                          \u001b[1;34m'the same number of samples as target arrays. '\u001b[0m\u001b[1;33m\u001b[0m\u001b[1;33m\u001b[0m\u001b[0m\n\u001b[0;32m    243\u001b[0m                          \u001b[1;34m'Found '\u001b[0m \u001b[1;33m+\u001b[0m \u001b[0mstr\u001b[0m\u001b[1;33m(\u001b[0m\u001b[0mlist\u001b[0m\u001b[1;33m(\u001b[0m\u001b[0mset_x\u001b[0m\u001b[1;33m)\u001b[0m\u001b[1;33m[\u001b[0m\u001b[1;36m0\u001b[0m\u001b[1;33m]\u001b[0m\u001b[1;33m)\u001b[0m \u001b[1;33m+\u001b[0m \u001b[1;34m' input samples '\u001b[0m\u001b[1;33m\u001b[0m\u001b[1;33m\u001b[0m\u001b[0m\n\u001b[1;32m--> 244\u001b[1;33m                          'and ' + str(list(set_y)[0]) + ' target samples.')\n\u001b[0m\u001b[0;32m    245\u001b[0m     \u001b[1;32mif\u001b[0m \u001b[0mlen\u001b[0m\u001b[1;33m(\u001b[0m\u001b[0mset_w\u001b[0m\u001b[1;33m)\u001b[0m \u001b[1;33m>\u001b[0m \u001b[1;36m1\u001b[0m\u001b[1;33m:\u001b[0m\u001b[1;33m\u001b[0m\u001b[1;33m\u001b[0m\u001b[0m\n\u001b[0;32m    246\u001b[0m         raise ValueError('All sample_weight arrays should have '\n",
      "\u001b[1;31mValueError\u001b[0m: Input arrays should have the same number of samples as target arrays. Found 947 input samples and 2 target samples."
     ]
    }
   ],
   "source": [
    "cfg_list = model_configs()\n",
    "# grid search\n",
    "scores = grid_search(X_train, cfg_list, X_test)\n",
    "print('done')\n",
    "# list top 10 configs\n",
    "for cfg, error in scores[:5]:\n",
    "    print(cfg, error)"
   ]
  },
  {
   "cell_type": "code",
   "execution_count": null,
   "metadata": {},
   "outputs": [],
   "source": []
  }
 ],
 "metadata": {
  "kernelspec": {
   "display_name": "Python 3",
   "language": "python",
   "name": "python3"
  },
  "language_info": {
   "codemirror_mode": {
    "name": "ipython",
    "version": 3
   },
   "file_extension": ".py",
   "mimetype": "text/x-python",
   "name": "python",
   "nbconvert_exporter": "python",
   "pygments_lexer": "ipython3",
   "version": "3.7.4"
  }
 },
 "nbformat": 4,
 "nbformat_minor": 2
}
