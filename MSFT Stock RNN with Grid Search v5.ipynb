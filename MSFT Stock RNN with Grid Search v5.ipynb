{
 "cells": [
  {
   "cell_type": "code",
   "execution_count": 1,
   "metadata": {},
   "outputs": [],
   "source": [
    "import numpy as np\n",
    "import matplotlib.pyplot as plt\n",
    "import pandas as pd"
   ]
  },
  {
   "cell_type": "code",
   "execution_count": 2,
   "metadata": {},
   "outputs": [
    {
     "name": "stdout",
     "output_type": "stream",
     "text": [
      "         Date       Open       High        Low      Close  Adj Close    Volume\n",
      "0  2015-05-04  48.369999  48.869999  48.180000  48.240002  43.497272  34039500\n",
      "1  2015-05-05  47.820000  48.160000  47.310001  47.599998  42.920189  50369200\n",
      "2  2015-05-06  47.570000  47.770000  46.020000  46.279999  41.729969  52433000\n",
      "3  2015-05-07  46.270000  47.090000  46.160000  46.700001  42.108677  32971700\n",
      "4  2015-05-08  47.549999  47.980000  47.520000  47.750000  43.055447  35364900\n",
      "<class 'pandas.core.frame.DataFrame'>\n",
      "RangeIndex: 1007 entries, 0 to 1006\n",
      "Data columns (total 7 columns):\n",
      "Date         1007 non-null object\n",
      "Open         1007 non-null float64\n",
      "High         1007 non-null float64\n",
      "Low          1007 non-null float64\n",
      "Close        1007 non-null float64\n",
      "Adj Close    1007 non-null float64\n",
      "Volume       1007 non-null int64\n",
      "dtypes: float64(5), int64(1), object(1)\n",
      "memory usage: 55.2+ KB\n",
      "None\n",
      "Date         0\n",
      "Open         0\n",
      "High         0\n",
      "Low          0\n",
      "Close        0\n",
      "Adj Close    0\n",
      "Volume       0\n",
      "dtype: int64\n"
     ]
    }
   ],
   "source": [
    "dataset_train = pd.read_csv('MSFT 5-15 to 5-19.csv')\n",
    "print(dataset_train.head())\n",
    "print(dataset_train.info())\n",
    "print(dataset_train.isna().sum())\n",
    "training_set = dataset_train.iloc[:, 1:2].values"
   ]
  },
  {
   "cell_type": "code",
   "execution_count": 3,
   "metadata": {},
   "outputs": [],
   "source": [
    "from sklearn.preprocessing import MinMaxScaler\n",
    "sc = MinMaxScaler(feature_range = (0, 1))\n",
    "training_set_scaled = sc.fit_transform(training_set)"
   ]
  },
  {
   "cell_type": "code",
   "execution_count": 4,
   "metadata": {},
   "outputs": [],
   "source": [
    "X_train = []\n",
    "y_train = []\n",
    "for i in range(60, 1007):\n",
    "    X_train.append(training_set_scaled[i-60:i, 0])\n",
    "    y_train.append(training_set_scaled[i, 0])\n",
    "X_train, y_train = np.array(X_train), np.array(y_train)\n",
    "\n",
    "X_train = np.reshape(X_train, (X_train.shape[0], X_train.shape[1], 1))"
   ]
  },
  {
   "cell_type": "code",
   "execution_count": 5,
   "metadata": {},
   "outputs": [
    {
     "name": "stderr",
     "output_type": "stream",
     "text": [
      "Using TensorFlow backend.\n"
     ]
    }
   ],
   "source": [
    "from keras.models import Sequential\n",
    "from keras.layers import Dense\n",
    "from keras.layers import LSTM\n",
    "from keras.layers import Dropout"
   ]
  },
  {
   "cell_type": "code",
   "execution_count": 6,
   "metadata": {},
   "outputs": [
    {
     "name": "stdout",
     "output_type": "stream",
     "text": [
      "Epoch 1/100\n",
      "947/947 [==============================] - 12s 12ms/step - loss: 0.0200\n",
      "Epoch 2/100\n",
      "947/947 [==============================] - 8s 9ms/step - loss: 0.0025\n",
      "Epoch 3/100\n",
      "947/947 [==============================] - 9s 9ms/step - loss: 0.0026\n",
      "Epoch 4/100\n",
      "947/947 [==============================] - 9s 9ms/step - loss: 0.0021\n",
      "Epoch 5/100\n",
      "947/947 [==============================] - 8s 9ms/step - loss: 0.0021\n",
      "Epoch 6/100\n",
      "947/947 [==============================] - 9s 9ms/step - loss: 0.0021\n",
      "Epoch 7/100\n",
      "947/947 [==============================] - 9s 9ms/step - loss: 0.0022\n",
      "Epoch 8/100\n",
      "947/947 [==============================] - 9s 9ms/step - loss: 0.0024\n",
      "Epoch 9/100\n",
      "947/947 [==============================] - 8s 9ms/step - loss: 0.0021\n",
      "Epoch 10/100\n",
      "947/947 [==============================] - 9s 9ms/step - loss: 0.0021\n",
      "Epoch 11/100\n",
      "947/947 [==============================] - 9s 9ms/step - loss: 0.0019\n",
      "Epoch 12/100\n",
      "947/947 [==============================] - 9s 9ms/step - loss: 0.0027\n",
      "Epoch 13/100\n",
      "947/947 [==============================] - 9s 10ms/step - loss: 0.0017\n",
      "Epoch 14/100\n",
      "947/947 [==============================] - 9s 9ms/step - loss: 0.0019\n",
      "Epoch 15/100\n",
      "947/947 [==============================] - 9s 10ms/step - loss: 0.0017\n",
      "Epoch 16/100\n",
      "947/947 [==============================] - 9s 9ms/step - loss: 0.0025\n",
      "Epoch 17/100\n",
      "947/947 [==============================] - 8s 9ms/step - loss: 0.0020\n",
      "Epoch 18/100\n",
      "947/947 [==============================] - 9s 9ms/step - loss: 0.0018\n",
      "Epoch 19/100\n",
      "947/947 [==============================] - 8s 9ms/step - loss: 0.0020\n",
      "Epoch 20/100\n",
      "947/947 [==============================] - 8s 9ms/step - loss: 0.0018\n",
      "Epoch 21/100\n",
      "947/947 [==============================] - 8s 9ms/step - loss: 0.0017\n",
      "Epoch 22/100\n",
      "947/947 [==============================] - 9s 9ms/step - loss: 0.0019\n",
      "Epoch 23/100\n",
      "947/947 [==============================] - 9s 10ms/step - loss: 0.0015\n",
      "Epoch 24/100\n",
      "947/947 [==============================] - 9s 9ms/step - loss: 0.0017\n",
      "Epoch 25/100\n",
      "947/947 [==============================] - 9s 9ms/step - loss: 0.0017\n",
      "Epoch 26/100\n",
      "947/947 [==============================] - 9s 9ms/step - loss: 0.0020\n",
      "Epoch 27/100\n",
      "947/947 [==============================] - 9s 9ms/step - loss: 0.0016\n",
      "Epoch 28/100\n",
      "947/947 [==============================] - 8s 9ms/step - loss: 0.0014\n",
      "Epoch 29/100\n",
      "947/947 [==============================] - 8s 9ms/step - loss: 0.0015\n",
      "Epoch 30/100\n",
      "947/947 [==============================] - 8s 9ms/step - loss: 0.0015\n",
      "Epoch 31/100\n",
      "947/947 [==============================] - 9s 9ms/step - loss: 0.0017\n",
      "Epoch 32/100\n",
      "947/947 [==============================] - 9s 9ms/step - loss: 0.0019\n",
      "Epoch 33/100\n",
      "947/947 [==============================] - 9s 10ms/step - loss: 0.0018\n",
      "Epoch 34/100\n",
      "947/947 [==============================] - 9s 10ms/step - loss: 0.0017\n",
      "Epoch 35/100\n",
      "947/947 [==============================] - 9s 9ms/step - loss: 0.0014\n",
      "Epoch 36/100\n",
      "947/947 [==============================] - 9s 9ms/step - loss: 0.0014\n",
      "Epoch 37/100\n",
      "947/947 [==============================] - 8s 9ms/step - loss: 0.0013\n",
      "Epoch 38/100\n",
      "947/947 [==============================] - 9s 9ms/step - loss: 0.0013\n",
      "Epoch 39/100\n",
      "947/947 [==============================] - 9s 9ms/step - loss: 0.0014\n",
      "Epoch 40/100\n",
      "947/947 [==============================] - 8s 9ms/step - loss: 0.0014\n",
      "Epoch 41/100\n",
      "947/947 [==============================] - 9s 9ms/step - loss: 0.0021\n",
      "Epoch 42/100\n",
      "947/947 [==============================] - 9s 9ms/step - loss: 0.0015\n",
      "Epoch 43/100\n",
      "947/947 [==============================] - 9s 9ms/step - loss: 0.0012\n",
      "Epoch 44/100\n",
      "947/947 [==============================] - 9s 9ms/step - loss: 0.0013\n",
      "Epoch 45/100\n",
      "947/947 [==============================] - 9s 9ms/step - loss: 0.0012\n",
      "Epoch 46/100\n",
      "947/947 [==============================] - 8s 9ms/step - loss: 0.0012\n",
      "Epoch 47/100\n",
      "947/947 [==============================] - 8s 9ms/step - loss: 0.0013\n",
      "Epoch 48/100\n",
      "947/947 [==============================] - 9s 9ms/step - loss: 0.0012\n",
      "Epoch 49/100\n",
      "947/947 [==============================] - 9s 9ms/step - loss: 0.0013\n",
      "Epoch 50/100\n",
      "947/947 [==============================] - 8s 9ms/step - loss: 0.0012\n",
      "Epoch 51/100\n",
      "947/947 [==============================] - 9s 9ms/step - loss: 0.0012\n",
      "Epoch 52/100\n",
      "947/947 [==============================] - 9s 9ms/step - loss: 0.0012\n",
      "Epoch 53/100\n",
      "947/947 [==============================] - 8s 9ms/step - loss: 0.0013\n",
      "Epoch 54/100\n",
      "947/947 [==============================] - 8s 9ms/step - loss: 0.0011\n",
      "Epoch 55/100\n",
      "947/947 [==============================] - 8s 9ms/step - loss: 0.0011\n",
      "Epoch 56/100\n",
      "947/947 [==============================] - 8s 9ms/step - loss: 0.0012\n",
      "Epoch 57/100\n",
      "947/947 [==============================] - 8s 9ms/step - loss: 0.0012\n",
      "Epoch 58/100\n",
      "947/947 [==============================] - 8s 9ms/step - loss: 0.0013\n",
      "Epoch 59/100\n",
      "947/947 [==============================] - 8s 9ms/step - loss: 0.0013\n",
      "Epoch 60/100\n",
      "947/947 [==============================] - 8s 9ms/step - loss: 0.0013\n",
      "Epoch 61/100\n",
      "947/947 [==============================] - 9s 9ms/step - loss: 0.0010\n",
      "Epoch 62/100\n",
      "947/947 [==============================] - 8s 9ms/step - loss: 0.0011\n",
      "Epoch 63/100\n",
      "947/947 [==============================] - 8s 9ms/step - loss: 0.0011\n",
      "Epoch 64/100\n",
      "947/947 [==============================] - 8s 9ms/step - loss: 0.0010\n",
      "Epoch 65/100\n",
      "947/947 [==============================] - 8s 9ms/step - loss: 0.0010\n",
      "Epoch 66/100\n",
      "947/947 [==============================] - 8s 9ms/step - loss: 0.0014\n",
      "Epoch 67/100\n",
      "947/947 [==============================] - 8s 9ms/step - loss: 0.0013\n",
      "Epoch 68/100\n",
      "947/947 [==============================] - 8s 9ms/step - loss: 0.0013\n",
      "Epoch 69/100\n",
      "947/947 [==============================] - 8s 9ms/step - loss: 0.0011\n",
      "Epoch 70/100\n",
      "947/947 [==============================] - 8s 9ms/step - loss: 9.9459e-04\n",
      "Epoch 71/100\n",
      "947/947 [==============================] - 8s 9ms/step - loss: 0.0010\n",
      "Epoch 72/100\n",
      "947/947 [==============================] - 8s 9ms/step - loss: 0.0012\n",
      "Epoch 73/100\n",
      "947/947 [==============================] - 8s 9ms/step - loss: 9.0740e-04\n",
      "Epoch 74/100\n",
      "947/947 [==============================] - 8s 9ms/step - loss: 9.4166e-04\n",
      "Epoch 75/100\n",
      "947/947 [==============================] - 8s 9ms/step - loss: 0.0011\n",
      "Epoch 76/100\n",
      "947/947 [==============================] - 8s 9ms/step - loss: 0.0011\n",
      "Epoch 77/100\n",
      "947/947 [==============================] - 8s 9ms/step - loss: 9.8079e-04\n",
      "Epoch 78/100\n",
      "947/947 [==============================] - 8s 9ms/step - loss: 9.1666e-04\n",
      "Epoch 79/100\n",
      "947/947 [==============================] - 8s 9ms/step - loss: 0.0011\n",
      "Epoch 80/100\n",
      "947/947 [==============================] - 9s 9ms/step - loss: 0.0011\n",
      "Epoch 81/100\n",
      "947/947 [==============================] - 9s 9ms/step - loss: 9.3841e-04\n",
      "Epoch 82/100\n",
      "947/947 [==============================] - 9s 9ms/step - loss: 8.0274e-04\n",
      "Epoch 83/100\n",
      "947/947 [==============================] - 9s 9ms/step - loss: 0.0012\n",
      "Epoch 84/100\n",
      "947/947 [==============================] - 9s 9ms/step - loss: 0.0012\n",
      "Epoch 85/100\n",
      "947/947 [==============================] - 9s 9ms/step - loss: 9.3920e-04\n",
      "Epoch 86/100\n",
      "947/947 [==============================] - 8s 9ms/step - loss: 0.0011\n",
      "Epoch 87/100\n",
      "947/947 [==============================] - 8s 9ms/step - loss: 0.0011\n",
      "Epoch 88/100\n",
      "947/947 [==============================] - 9s 9ms/step - loss: 9.0674e-04\n",
      "Epoch 89/100\n",
      "947/947 [==============================] - 9s 9ms/step - loss: 9.3291e-04\n",
      "Epoch 90/100\n",
      "947/947 [==============================] - 8s 9ms/step - loss: 8.5970e-04\n",
      "Epoch 91/100\n",
      "947/947 [==============================] - 8s 9ms/step - loss: 8.4790e-04\n",
      "Epoch 92/100\n",
      "947/947 [==============================] - 8s 9ms/step - loss: 7.9276e-04\n",
      "Epoch 93/100\n",
      "947/947 [==============================] - 8s 9ms/step - loss: 9.1314e-04\n",
      "Epoch 94/100\n",
      "947/947 [==============================] - 8s 9ms/step - loss: 9.3277e-04\n",
      "Epoch 95/100\n",
      "947/947 [==============================] - 8s 9ms/step - loss: 0.0011\n",
      "Epoch 96/100\n",
      "947/947 [==============================] - 8s 9ms/step - loss: 9.5126e-04\n",
      "Epoch 97/100\n",
      "947/947 [==============================] - 8s 9ms/step - loss: 8.5645e-04\n",
      "Epoch 98/100\n"
     ]
    },
    {
     "name": "stdout",
     "output_type": "stream",
     "text": [
      "947/947 [==============================] - 8s 9ms/step - loss: 8.3026e-04\n",
      "Epoch 99/100\n",
      "947/947 [==============================] - 8s 9ms/step - loss: 8.0734e-04\n",
      "Epoch 100/100\n",
      "947/947 [==============================] - 9s 9ms/step - loss: 9.7625e-04\n"
     ]
    },
    {
     "data": {
      "text/plain": [
       "<keras.callbacks.callbacks.History at 0x246ee079f88>"
      ]
     },
     "execution_count": 6,
     "metadata": {},
     "output_type": "execute_result"
    }
   ],
   "source": [
    "regressor = Sequential()\n",
    "\n",
    "regressor.add(LSTM(units = 100, return_sequences = True, input_shape = (X_train.shape[1], 1)))\n",
    "regressor.add(Dropout(0.2))\n",
    "\n",
    "regressor.add(LSTM(units = 100, return_sequences = True))\n",
    "regressor.add(Dropout(0.2))\n",
    "\n",
    "regressor.add(LSTM(units = 100, return_sequences = True))\n",
    "regressor.add(Dropout(0.2))\n",
    "\n",
    "regressor.add(LSTM(units = 100))\n",
    "regressor.add(Dropout(0.2))\n",
    "\n",
    "regressor.add(Dense(units = 1))\n",
    "\n",
    "regressor.compile(optimizer = 'adam', loss = 'mean_squared_error')\n",
    "\n",
    "regressor.fit(X_train, y_train, epochs = 100, batch_size = 32)"
   ]
  },
  {
   "cell_type": "code",
   "execution_count": 7,
   "metadata": {},
   "outputs": [
    {
     "name": "stdout",
     "output_type": "stream",
     "text": [
      "Model: \"sequential_1\"\n",
      "_________________________________________________________________\n",
      "Layer (type)                 Output Shape              Param #   \n",
      "=================================================================\n",
      "lstm_1 (LSTM)                (None, 60, 100)           40800     \n",
      "_________________________________________________________________\n",
      "dropout_1 (Dropout)          (None, 60, 100)           0         \n",
      "_________________________________________________________________\n",
      "lstm_2 (LSTM)                (None, 60, 100)           80400     \n",
      "_________________________________________________________________\n",
      "dropout_2 (Dropout)          (None, 60, 100)           0         \n",
      "_________________________________________________________________\n",
      "lstm_3 (LSTM)                (None, 60, 100)           80400     \n",
      "_________________________________________________________________\n",
      "dropout_3 (Dropout)          (None, 60, 100)           0         \n",
      "_________________________________________________________________\n",
      "lstm_4 (LSTM)                (None, 100)               80400     \n",
      "_________________________________________________________________\n",
      "dropout_4 (Dropout)          (None, 100)               0         \n",
      "_________________________________________________________________\n",
      "dense_1 (Dense)              (None, 1)                 101       \n",
      "=================================================================\n",
      "Total params: 282,101\n",
      "Trainable params: 282,101\n",
      "Non-trainable params: 0\n",
      "_________________________________________________________________\n",
      "None\n"
     ]
    }
   ],
   "source": [
    "print(regressor.summary())"
   ]
  },
  {
   "cell_type": "code",
   "execution_count": 8,
   "metadata": {},
   "outputs": [],
   "source": [
    "dataset_test = pd.read_csv('MSFT.csv')\n",
    "real_stock_price = dataset_test.iloc[:, 1:2].values"
   ]
  },
  {
   "cell_type": "code",
   "execution_count": 9,
   "metadata": {},
   "outputs": [],
   "source": [
    "dataset_total = pd.concat((dataset_train['Open'], dataset_test['Open']), axis = 0)\n",
    "inputs = dataset_total[len(dataset_total) - len(dataset_test) - 60:].values\n",
    "inputs = inputs.reshape(-1,1)\n",
    "inputs = sc.transform(inputs)"
   ]
  },
  {
   "cell_type": "code",
   "execution_count": 10,
   "metadata": {},
   "outputs": [],
   "source": [
    "X_test = []\n",
    "for i in range(60, 312):\n",
    "    X_test.append(inputs[i-60:i, 0])\n",
    "X_test = np.array(X_test)\n",
    "X_test = np.reshape(X_test, (X_test.shape[0], X_test.shape[1], 1))\n",
    "predicted_stock_price = regressor.predict(X_test)\n",
    "predicted_stock_price = sc.inverse_transform(predicted_stock_price)"
   ]
  },
  {
   "cell_type": "code",
   "execution_count": 11,
   "metadata": {},
   "outputs": [
    {
     "name": "stdout",
     "output_type": "stream",
     "text": [
      "MSE: 21.83\n",
      "RMSE: 4.67\n"
     ]
    }
   ],
   "source": [
    "from sklearn.metrics import mean_squared_error\n",
    "mse = mean_squared_error(real_stock_price, predicted_stock_price)\n",
    "rmse = np.sqrt(mse)\n",
    "print('MSE: %.2f'% mse)\n",
    "print('RMSE: %.2f'% rmse)"
   ]
  },
  {
   "cell_type": "code",
   "execution_count": 12,
   "metadata": {},
   "outputs": [
    {
     "data": {
      "image/png": "[encoded data removed]",
      "text/plain": [
       "<Figure size 432x288 with 1 Axes>"
      ]
     },
     "metadata": {
      "needs_background": "light"
     },
     "output_type": "display_data"
    }
   ],
   "source": [
    "plt.plot(real_stock_price, color = 'red', label = 'Real MSFT Stock Price')\n",
    "plt.plot(predicted_stock_price, color = 'blue', label = 'Predicted MSFT Stock Price')\n",
    "plt.title('MSFT Stock Price Prediction')\n",
    "plt.xlabel('Time')\n",
    "plt.ylabel('MSFT Stock Price')\n",
    "plt.legend()\n",
    "plt.show()"
   ]
  },
  {
   "cell_type": "code",
   "execution_count": 17,
   "metadata": {},
   "outputs": [
    {
     "name": "stdout",
     "output_type": "stream",
     "text": [
      "Epoch 1/1\n",
      "631/631 [==============================] - 6s 9ms/step - loss: 116088.5378 - rmse: 3.2374 - accuracy: 0.0016\n",
      "316/316 [==============================] - 1s 2ms/step\n",
      "Epoch 1/1\n",
      "631/631 [==============================] - 6s 9ms/step - loss: 109077.7318 - rmse: 3.2374 - accuracy: 0.0016\n",
      "316/316 [==============================] - 1s 2ms/step\n",
      "Epoch 1/1\n",
      "632/632 [==============================] - 6s 9ms/step - loss: 106511.4026 - rmse: 3.2374 - accuracy: 0.0032\n",
      "315/315 [==============================] - 1s 2ms/step\n",
      "Epoch 1/1\n",
      "631/631 [==============================] - 6s 9ms/step - loss: 115888.9334 - rmse: 3.2374 - accuracy: 0.0016\n",
      "316/316 [==============================] - 1s 2ms/step\n",
      "Epoch 1/1\n",
      "631/631 [==============================] - 6s 9ms/step - loss: 108929.6484 - rmse: 3.2374 - accuracy: 0.0016\n",
      "316/316 [==============================] - 1s 2ms/step\n",
      "Epoch 1/1\n",
      "632/632 [==============================] - 6s 9ms/step - loss: 106128.8244 - rmse: 3.2374 - accuracy: 0.0016\n",
      "315/315 [==============================] - 1s 2ms/step\n"
     ]
    },
    {
     "name": "stderr",
     "output_type": "stream",
     "text": [
      "C:\\Users\\kpchi\\Anaconda3\\lib\\site-packages\\sklearn\\model_selection\\_search.py:814: DeprecationWarning: The default of the `iid` parameter will change from True to False in version 0.22 and will be removed in 0.24. This will change numeric results when test-set sizes are unequal.\n",
      "  DeprecationWarning)\n"
     ]
    },
    {
     "name": "stdout",
     "output_type": "stream",
     "text": [
      "Epoch 1/1\n",
      "947/947 [==============================] - 7s 8ms/step - loss: 247197.3284 - rmse: 3.2374 - accuracy: 0.0011\n",
      "{'optimizer': 'adam'}\n",
      "0.3284054965630504\n"
     ]
    }
   ],
   "source": [
    "from keras.wrappers.scikit_learn import KerasClassifier\n",
    "from sklearn.model_selection import GridSearchCV\n",
    "from keras import backend\n",
    "\n",
    "def rmse(y_true, y_pred):\n",
    "    return backend.sqrt(backend.mean(backend.square(real_stock_price - predicted_stock_price), axis=-1))\n",
    "\n",
    "def build_classifier(optimizer):\n",
    "    classifier = Sequential()\n",
    "    classifier.add(LSTM(units = 10, return_sequences = True, input_shape = (60, 1)))\n",
    "    classifier.add(LSTM(units = 10, return_sequences = True))\n",
    "    classifier.add(LSTM(units = 10, return_sequences = True))\n",
    "    classifier.add(LSTM(units = 10))\n",
    "    classifier.add(Dense(units = 1))\n",
    "    classifier.compile(optimizer = optimizer, loss = 'mean_squared_error', metrics=[rmse, 'accuracy'])\n",
    "    return classifier\n",
    "\n",
    "classifier = KerasClassifier(build_fn = build_classifier)\n",
    "parameters = {'optimizer': ['adam', 'rmsprop']}\n",
    "grid_search = GridSearchCV(estimator = classifier,\n",
    "                           param_grid = parameters,\n",
    "                           cv = 3)\n",
    "grid_search = grid_search.fit(X_train, y_train)\n",
    "best_parameters = grid_search.best_params_\n",
    "best_accuracy = grid_search.best_score_\n",
    "print(best_parameters)\n",
    "print(best_accuracy)"
   ]
  },
  {
   "cell_type": "code",
   "execution_count": null,
   "metadata": {},
   "outputs": [],
   "source": []
  }
 ],
 "metadata": {
  "kernelspec": {
   "display_name": "Python 3",
   "language": "python",
   "name": "python3"
  },
  "language_info": {
   "codemirror_mode": {
    "name": "ipython",
    "version": 3
   },
   "file_extension": ".py",
   "mimetype": "text/x-python",
   "name": "python",
   "nbconvert_exporter": "python",
   "pygments_lexer": "ipython3",
   "version": "3.7.4"
  }
 },
 "nbformat": 4,
 "nbformat_minor": 2
}
